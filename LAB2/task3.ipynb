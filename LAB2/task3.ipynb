{
  "metadata": {
    "kernelspec": {
      "display_name": "Pyolite",
      "language": "python",
      "name": "python"
    },
    "language_info": {
      "codemirror_mode": {
        "name": "python",
        "version": 3
      },
      "file_extension": ".py",
      "mimetype": "text/x-python",
      "name": "python",
      "nbconvert_exporter": "python",
      "pygments_lexer": "ipython3",
      "version": "3.8"
    }
  },
  "nbformat_minor": 5,
  "nbformat": 4,
  "cells": [
    {
      "cell_type": "code",
      "source": "board = [[0 for i in range(8)]for j in range(8)]\ncnt = 0\ndef setQueen(i, j):\n  for x in range(8):\n    board[x][j] += 1\n    board[i][x] += 1\n    if 0 <= i + j - x < 8:\n      board[i + j - x][x] += 1\n    if 0 <= i - j + x < 8:\n      board[i - j + x][x] += 1\n  board[i][j] = -1\n\ndef removeQueen(i, j):\n  for x in range(8):\n    board[x][j] -= 1\n    board[i][x] -= 1\n    if 0 <= i + j - x < 8:\n      board[i + j - x][x] -= 1\n    if 0 <= i - j + x < 8:\n      board[i - j + x][x] -= 1\n  board[i][j] = 0\n\ndef printPosition():\n  global cnt\n  cnt += 1\n  abc = \"abcdefgh\"\n  ans = []\n  for i in range(8):\n    for j in range(8):\n      if board[i][j] == -1:\n        ans.append(abc[j] + str(i+1))\n  print(\", \".join(ans))\n\ndef solve(i):\n  for j in range(8):\n    if board[i][j] == 0:\n      setQueen(i, j)\n      if i == 7:\n        printPosition()\n      else:\n        solve(i + 1)\n      removeQueen(i, j)\n\nsolve(0)\nprint(\"Кол-во решений: \",cnt)\n",
      "metadata": {},
      "execution_count": null,
      "outputs": [],
      "id": "7527d173-a118-4b23-8535-41584fe60b8e"
    }
  ]
}
