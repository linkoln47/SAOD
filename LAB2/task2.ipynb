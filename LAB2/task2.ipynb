{
  "nbformat": 4,
  "nbformat_minor": 0,
  "metadata": {
    "colab": {
      "name": "Untitled1.ipynb",
      "provenance": []
    },
    "kernelspec": {
      "name": "python3",
      "display_name": "Python 3"
    },
    "language_info": {
      "name": "python"
    }
  },
  "cells": [
    {
      "cell_type": "code",
      "execution_count": 2,
      "metadata": {
        "id": "duFcS60_V7y2",
        "colab": {
          "base_uri": "https://localhost:8080/"
        },
        "outputId": "0d000ebd-9e61-4210-d513-21ee01b4425f"
      },
      "outputs": [
        {
          "output_type": "stream",
          "name": "stdout",
          "text": [
            "[77, 44, 55, 20, 26, 93, 17, None, None, 31, 54]\n",
            "['bird', 'goat', 'pig', 'chicken', 'dog', 'lion', 'tiger', None, None, 'cow', 'cat']\n",
            "chicken\n",
            "tiger\n",
            "duck\n",
            "None\n"
          ]
        }
      ],
      "source": [
        "class HashTable:\n",
        "    def __init__(self):\n",
        "        self.size = 11\n",
        "        self.slots = [None] * self.size\n",
        "        self.data = [None] * self.size\n",
        "\n",
        "    def put(self,key,data):\n",
        "      hashvalue = self.hashfunction(key,len(self.slots))\n",
        "\n",
        "      if self.slots[hashvalue] == None:\n",
        "        self.slots[hashvalue] = key\n",
        "        self.data[hashvalue] = data\n",
        "      else:\n",
        "        if self.slots[hashvalue] == key:\n",
        "          self.data[hashvalue] = data  #replace\n",
        "        else:\n",
        "          nextslot = self.rehash(hashvalue,len(self.slots))\n",
        "          while self.slots[nextslot] != None and \\\n",
        "                          self.slots[nextslot] != key:\n",
        "            nextslot = self.rehash(nextslot,len(self.slots))\n",
        "\n",
        "          if self.slots[nextslot] == None:\n",
        "            self.slots[nextslot]=key\n",
        "            self.data[nextslot]=data\n",
        "          else:\n",
        "            self.data[nextslot] = data #replace\n",
        "\n",
        "    def hashfunction(self,key,size):\n",
        "         return key%size\n",
        "\n",
        "    def rehash(self,oldhash,size):\n",
        "        return (oldhash+1)%size\n",
        "\n",
        "    def get(self,key):\n",
        "      startslot = self.hashfunction(key,len(self.slots))\n",
        "\n",
        "      data = None\n",
        "      stop = False\n",
        "      found = False\n",
        "      position = startslot\n",
        "      while self.slots[position] != None and  \\\n",
        "                           not found and not stop:\n",
        "         if self.slots[position] == key:\n",
        "           found = True\n",
        "           data = self.data[position]\n",
        "         else:\n",
        "           position=self.rehash(position,len(self.slots))\n",
        "           if position == startslot:\n",
        "               stop = True\n",
        "      return data\n",
        "\n",
        "    def __getitem__(self,key):\n",
        "        return self.get(key)\n",
        "\n",
        "    def __setitem__(self,key,data):\n",
        "        self.put(key,data)\n",
        "\n",
        "H=HashTable()\n",
        "H[54] = \"cat\"\n",
        "H[26] = \"dog\"\n",
        "H[93] = \"lion\"\n",
        "H[17] = \"tiger\"\n",
        "H[77] = \"bird\"\n",
        "H[31] = \"cow\"\n",
        "H[44] = \"goat\"\n",
        "H[55] = \"pig\"\n",
        "H[20] = \"chicken\"\n",
        "print(H.slots)\n",
        "print(H.data)\n",
        "\n",
        "print(H[20])\n",
        "\n",
        "print(H[17])\n",
        "H[20] = 'duck'\n",
        "print(H[20])\n",
        "print(H[99])\n"
      ]
    }
  ]
}