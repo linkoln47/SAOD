{
  "metadata": {
    "kernelspec": {
      "display_name": "Pyolite",
      "language": "python",
      "name": "python"
    },
    "language_info": {
      "codemirror_mode": {
        "name": "python",
        "version": 3
      },
      "file_extension": ".py",
      "mimetype": "text/x-python",
      "name": "python",
      "nbconvert_exporter": "python",
      "pygments_lexer": "ipython3",
      "version": "3.8"
    }
  },
  "nbformat_minor": 5,
  "nbformat": 4,
  "cells": [
    {
      "cell_type": "code",
      "source": "import math\nimport random\nfrom time import time\n\ndef selectionSort(array):\n    t = time()\n    for i in range(len(array)-1):\n        min_idx = i\n        for idx in range(i + 1, len(array)):\n            if array[idx] < array[min_idx]:\n                min_idx = idx\n        array[i], array[min_idx] = array[min_idx], array[i]\n    print('Selection sorting time is: ', time() - t)\n    return array\n\ndef insertionSort(array):\n    t = time()\n    for i in range(1, len(array)):\n        key = array[i]\n        j = i-1\n        while array[j] > key and j >= 0:\n            array[j+1] = array[j]\n            j -= 1\n        array[j+1] = key\n    print('Insertion sorting time is: ', time() - t)\n    return array\n\ndef bubbleSort(array):\n    t = time()\n    swapped = False\n    for i in range(len(array)-1,0,-1):\n        for j in range(i):\n            if array[j]>array[j+1]:\n                array[j], array[j+1] = array[j+1], array[j]\n                swapped= True\n        if swapped:\n            swapped=False\n        else:\n            break\n    print('Bubble sorting time is: ', time() - t)\n    return array\n\ndef shellSort(array):\n    t = time()\n    n = len(array)\n    k = int(math.log2(n))\n    interval = 2**k -1\n    while interval > 0:\n        for i in range(interval, n):\n            temp = array[i]\n            j = i\n            while j >= interval and array[j - interval] > temp:\n                array[j] = array[j - interval]\n                j -= interval\n            array[j] = temp\n        k -= 1\n        interval = 2**k - 1\n    print('Shell sorting time is: ', time() - t)\n    return array\n\ndef quickSort(array):\n    if len(array)> 1:\n        pivot=array.pop()\n        grtr_lst, equal_lst, smlr_lst = [], [pivot], []\n        for item in array:\n            if item == pivot:\n                equal_lst.append(item)\n            elif item > pivot:\n                grtr_lst.append(item)\n            else:\n                smlr_lst.append(item)\n        return (quickSort(smlr_lst) + equal_lst + quickSort(grtr_lst))\n    else:\n        return array\n\ndef heapify(arr, n, i):\n    largest = i # Initialize largest as root\n    l = 2 * i + 1   # left = 2*i + 1\n    r = 2 * i + 2   # right = 2*i + 2\n\n  # Проверяем существует ли левый дочерний элемент больший, чем корень\n\n    if l < n and arr[i] < arr[l]:\n        largest = l\n\n    # Проверяем существует ли правый дочерний элемент больший, чем корень\n\n    if r < n and arr[largest] < arr[r]:\n        largest = r\n\n    # Заменяем корень, если нужно\n    if largest != i:\n        arr[i],arr[largest] = arr[largest],arr[i] # свап\n\n        # Применяем heapify к корню.\n        heapify(arr, n, largest)\ndef heapSort(array):\n    t = time()\n    n = len(array)\n\n    # Построение max-heap.\n    for i in range(n, -1, -1):\n        heapify(array, n, i)\n\n    # Один за другим извлекаем элементы\n    for i in range(n-1, 0, -1):\n        array[i], array[0] = array[0], array[i] # свап\n        heapify(array, i, 0)\n    print('Heap sorting time is: ', time() - t)\n    return array\n\n\narray = [random.randint(-500, 499) for i in range(1000)]\narray0 = array.copy()\narray1 = array.copy()\narray2 = array.copy()\narray3 = array.copy()\narray5 = array.copy()\narray6 = array.copy()\n\nprint('Selection array: ', selectionSort(array0))\nprint('Insertion array: ', insertionSort(array1))\nprint('Bubble array: ', bubbleSort(array2))\nprint('Shells array: ', shellSort(array3))\nprint('Quick array: ', quickSort(array5))\nprint('Heap array: ', heapSort(array6))\n\nt = time()\narray.sort()\nprint(\"default sorting time is: \", time() - t)\nprint(\"default array: \", array)\n",
      "metadata": {},
      "execution_count": null,
      "outputs": [],
      "id": "f05fb550-8925-44fe-8e2d-decfd9773028"
    }
  ]
}