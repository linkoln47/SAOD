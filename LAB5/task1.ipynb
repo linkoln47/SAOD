{
  "nbformat": 4,
  "nbformat_minor": 0,
  "metadata": {
    "colab": {
      "name": "Untitled1.ipynb",
      "provenance": []
    },
    "kernelspec": {
      "name": "python3",
      "display_name": "Python 3"
    },
    "language_info": {
      "name": "python"
    }
  },
  "cells": [
    {
      "cell_type": "code",
      "execution_count": null,
      "metadata": {
        "id": "duFcS60_V7y2"
      },
      "outputs": [],
      "source": [
        "import time\n",
        "import turtle\n",
        "cnt = 0\n",
        "\n",
        "\n",
        "def hilbert(level, angle, step):\n",
        "    global cnt\n",
        "    cnt += 1\n",
        "\n",
        "    # Input Parameters are numeric\n",
        "    # Return Value: None\n",
        "    if level == 0:\n",
        "        return\n",
        "\n",
        "    turtle.right(angle)\n",
        "    hilbert(level - 1, -angle, step)\n",
        "\n",
        "    turtle.forward(step)\n",
        "    turtle.left(angle)\n",
        "    hilbert(level - 1, angle, step)\n",
        "\n",
        "    turtle.forward(step)\n",
        "    hilbert(level - 1, angle, step)\n",
        "\n",
        "    turtle.left(angle)\n",
        "    turtle.forward(step)\n",
        "    hilbert(level - 1, -angle, step)\n",
        "    turtle.right(angle)\n",
        "\n",
        "\n",
        "\n",
        "def main():\n",
        "    turtle.tracer(0, None)\n",
        "    level = int(input())\n",
        "    size = 200\n",
        "    turtle.penup()\n",
        "    turtle.goto(-size / 2.0, size / 2.0)\n",
        "    turtle.pendown()\n",
        "    turtle.update()\n",
        "\n",
        "    # For positioning turtle\n",
        "    prev_t = time.time()\n",
        "    hilbert(level, 90, size / (2 ** level - 1))\n",
        "    cur_t = time.time() - prev_t\n",
        "    print(f\"Глубина рекурсии: {cnt}\\n{cur_t}\")\n",
        "    turtle.done()\n",
        "\n",
        "\n",
        "if __name__ == '__main__':\n",
        "    main()\n"
      ]
    }
  ]
}