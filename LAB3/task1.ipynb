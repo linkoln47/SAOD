{
  "metadata": {
    "kernelspec": {
      "display_name": "Pyolite",
      "language": "python",
      "name": "python"
    },
    "language_info": {
      "codemirror_mode": {
        "name": "python",
        "version": 3
      },
      "file_extension": ".py",
      "mimetype": "text/x-python",
      "name": "python",
      "nbconvert_exporter": "python",
      "pygments_lexer": "ipython3",
      "version": "3.8"
    }
  },
  "nbformat_minor": 5,
  "nbformat": 4,
  "cells": [
    {
      "cell_type": "code",
      "source": "class HashTable:\n    def __init__(self):\n        self.size = 11\n        self.slots = [None] * self.size\n        self.data = [None] * self.size\n\n    def put(self,key,data):\n      hashvalue = self.hashfunction(key,len(self.slots))\n\n      if self.slots[hashvalue] == None:\n        self.slots[hashvalue] = key\n        self.data[hashvalue] = data\n      else:\n        if self.slots[hashvalue] == key:\n          self.data[hashvalue] = data  #replace\n        else:\n          nextslot = self.rehash(hashvalue,len(self.slots))\n          while self.slots[nextslot] != None and \\\n                          self.slots[nextslot] != key:\n            nextslot = self.rehash(nextslot,len(self.slots))\n\n          if self.slots[nextslot] == None:\n            self.slots[nextslot]=key\n            self.data[nextslot]=data\n          else:\n            self.data[nextslot] = data #replace\n\n    def hashfunction(self,key,size):\n         return key%size\n\n    def rehash(self,oldhash,size):\n        return (oldhash+1)%size\n\n    def get(self,key):\n      startslot = self.hashfunction(key,len(self.slots))\n\n      data = None\n      stop = False\n      found = False\n      position = startslot\n      while self.slots[position] != None and  \\\n                           not found and not stop:\n         if self.slots[position] == key:\n           found = True\n           data = self.data[position]\n         else:\n           position=self.rehash(position,len(self.slots))\n           if position == startslot:\n               stop = True\n      return data\n\n    def __getitem__(self,key):\n        return self.get(key)\n\n    def __setitem__(self,key,data):\n        self.put(key,data)\n\nH=HashTable()\nH[54] = \"cat\"\nH[26] = \"dog\"\nH[93] = \"lion\"\nH[17] = \"tiger\"\nH[77] = \"bird\"\nH[31] = \"cow\"\nH[44] = \"goat\"\nH[55] = \"pig\"\nH[20] = \"chicken\"\nprint(H.slots)\nprint(H.data)\n\nprint(H[20])\n\nprint(H[17])\nH[20] = 'duck'\nprint(H[20])\nprint(H[99])\n",
      "metadata": {},
      "execution_count": null,
      "outputs": [],
      "id": "dc3d0d33-bdc5-44bd-898c-0fbfd9db61b1"
    }
  ]
}