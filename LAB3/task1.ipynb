{
  "nbformat": 4,
  "nbformat_minor": 0,
  "metadata": {
    "colab": {
      "name": "Untitled1.ipynb",
      "provenance": []
    },
    "kernelspec": {
      "name": "python3",
      "display_name": "Python 3"
    },
    "language_info": {
      "name": "python"
    }
  },
  "cells": [
    {
      "cell_type": "code",
      "execution_count": 5,
      "metadata": {
        "id": "duFcS60_V7y2",
        "colab": {
          "base_uri": "https://localhost:8080/"
        },
        "outputId": "5e82a331-c171-4144-e909-89306d0b5f87"
      },
      "outputs": [
        {
          "output_type": "stream",
          "name": "stdout",
          "text": [
            "введите строку: fhskdfhsdfnasha\n",
            "введите подстроку: nasha\n",
            "Различать регистр?(да\\нет): нет\n",
            "15 5\n",
            ">>> [0, 0, 0, 0, 0]\n",
            "[10]\n",
            "nasha\n"
          ]
        }
      ],
      "source": [
        "def func_prefix(s: str) -> list:\n",
        "    l = len(s)\n",
        "    P = [0]*l\n",
        "    i, j = 0, 1\n",
        "    while j < l:\n",
        "        if s[i] == s[j]:\n",
        "            P[j] = i + 1\n",
        "            i += 1\n",
        "            j += 1\n",
        "        # s[i] != s[j]:\n",
        "        elif i:         # i > 0\n",
        "            i = P[i - 1]\n",
        "        else:           # i == 0\n",
        "            P[j] = 0\n",
        "            j += 1\n",
        "    return P\n",
        "def kmp(text: str, sub: str) -> list:\n",
        "    sub_len = len(sub)\n",
        "    text_len = len(text)\n",
        "    print(text_len, sub_len)\n",
        "    if not text_len or sub_len > text_len:\n",
        "        return []\n",
        "    P = func_prefix(sub)\n",
        "    print(\">>>\", P)\n",
        "    entries = []\n",
        "    i = j = 0\n",
        "    while i < text_len and j < sub_len:\n",
        "        if text[i] == sub[j]:\n",
        "            if j == sub_len - 1:\n",
        "                entries.append(i - sub_len + 1)\n",
        "                j = 0\n",
        "            else:\n",
        "                j += 1\n",
        "            i += 1\n",
        "        # text[i] 1= sub[j]\n",
        "        elif j:     # j > 0\n",
        "            j = P[j-1]\n",
        "        else:\n",
        "            i += 1\n",
        "    return entries\n",
        "if __name__ == '__main__':\n",
        "    s = input(\"введите строку: \")\n",
        "    sub = input(\"введите подстроку: \")\n",
        "    Q = input(\"Различать регистр?(да\\нет): \")\n",
        "    if Q == \"нет\":\n",
        "        s = s.lower()\n",
        "        sub = sub.lower()\n",
        "    P = kmp(s, sub)\n",
        "    print(P)\n",
        "    for i in P:\n",
        "        print(s[i:i + len(sub)])\n",
        "\n",
        "    def __setitem__(self,key,data):\n",
        "        self.put(key,data)"
      ]
    }
  ]
}