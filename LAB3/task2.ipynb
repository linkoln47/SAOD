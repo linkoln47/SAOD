{
  "metadata": {
    "kernelspec": {
      "display_name": "Pyolite",
      "language": "python",
      "name": "python"
    },
    "language_info": {
      "codemirror_mode": {
        "name": "python",
        "version": 3
      },
      "file_extension": ".py",
      "mimetype": "text/x-python",
      "name": "python",
      "nbconvert_exporter": "python",
      "pygments_lexer": "ipython3",
      "version": "3.8"
    }
  },
  "nbformat_minor": 5,
  "nbformat": 4,
  "cells": [
    {
      "cell_type": "code",
      "source": "def func_prefix(s: str) -> list:\n    l = len(s)\n    P = [0]*l\n    i, j = 0, 1\n    while j < l:\n        if s[i] == s[j]:\n            P[j] = i + 1\n            i += 1\n            j += 1\n        # s[i] != s[j]:\n        elif i:         # i > 0\n            i = P[i - 1]\n        else:           # i == 0\n            P[j] = 0\n            j += 1\n    return P\ndef kmp(text: str, sub: str) -> list:\n    sub_len = len(sub)\n    text_len = len(text)\n    print(text_len, sub_len)\n    if not text_len or sub_len > text_len:\n        return []\n    P = func_prefix(sub)\n    print(\">>>\", P)\n    entries = []\n    i = j = 0\n    while i < text_len and j < sub_len:\n        if text[i] == sub[j]:\n            if j == sub_len - 1:\n                entries.append(i - sub_len + 1)\n                j = 0\n            else:\n                j += 1\n            i += 1\n        # text[i] 1= sub[j]\n        elif j:     # j > 0\n            j = P[j-1]\n        else:\n            i += 1\n    return entries\nif __name__ == '__main__':\n    s = input(\"введите строку: \")\n    sub = input(\"введите подстроку: \")\n    Q = input(\"Различать регистр?(да\\нет): \")\n    if Q == \"нет\":\n        s = s.lower()\n        sub = sub.lower()\n    P = kmp(s, sub)\n    print(P)\n    for i in P:\n        print(s[i:i + len(sub)])",
      "metadata": {},
      "execution_count": null,
      "outputs": [],
      "id": "0709335e-dbda-48d1-8409-7d2e232479d3"
    }
  ]
}