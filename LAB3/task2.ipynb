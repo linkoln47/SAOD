{
  "nbformat": 4,
  "nbformat_minor": 0,
  "metadata": {
    "colab": {
      "name": "Untitled1.ipynb",
      "provenance": []
    },
    "kernelspec": {
      "name": "python3",
      "display_name": "Python 3"
    },
    "language_info": {
      "name": "python"
    }
  },
  "cells": [
    {
      "cell_type": "code",
      "execution_count": 7,
      "metadata": {
        "id": "duFcS60_V7y2",
        "colab": {
          "base_uri": "https://localhost:8080/"
        },
        "outputId": "e6eaef00-db03-48dc-b0ce-635201931aaf"
      },
      "outputs": [
        {
          "output_type": "stream",
          "name": "stdout",
          "text": [
            "Введите строку: feughwriwkatanaidsflhflshf\n",
            "Введите подстроку: katana\n",
            "Учитывать регистр?(да\\нет): нет\n",
            "Нашли. Число смещений равно 2.\n"
          ]
        }
      ],
      "source": [
        "def forming_d(pattern):\n",
        "    \"\"\" Формируем массив d.\"\"\"\n",
        "    d = [len(pattern) for i in range(256)]\n",
        "    new_p = pattern[::-1]\n",
        "\n",
        "    for i in range(len(new_p)):\n",
        "        if d[ord(new_p[i])] != len(new_p):\n",
        "            continue\n",
        "        else:\n",
        "            d[ord(new_p[i])] = i\n",
        "    return d\n",
        "\n",
        "\n",
        "def search(string, pattern):\n",
        "    \"\"\" Поиск Бойера - Мура.\"\"\"\n",
        "\n",
        "    d = forming_d(pattern)\n",
        "    # x - начало прохода по string\n",
        "    # j - проход по pattern\n",
        "    # k - проход по string\n",
        "    len_p = x = j = k = len(pattern)\n",
        "    # число смещений\n",
        "    counter = 0\n",
        "\n",
        "    while x <= len(string) and j > 0:\n",
        "        if pattern[j - 1] == string[k - 1]:\n",
        "            j -= 1\n",
        "            k -= 1\n",
        "        else:\n",
        "            x += d[ord(string[k - 1])]\n",
        "            k = x\n",
        "            j = len_p\n",
        "            counter += 1\n",
        "\n",
        "    if j <= 0:\n",
        "        return \"Нашли. Число смещений равно %d.\" % counter\n",
        "    else:\n",
        "        return \"Не нашли!\"\n",
        "\n",
        "\n",
        "string = input(\"Введите строку: \")\n",
        "pattern = input(\"Введите подстроку: \")\n",
        "Q = input(\"Учитывать регистр?(да\\нет): \")\n",
        "if Q == \"нет\":\n",
        "    string = string.lower()\n",
        "    pattern = pattern.lower()\n",
        "print(search(string, pattern))"
      ]
    }
  ]
}