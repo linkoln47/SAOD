{
  "metadata": {
    "kernelspec": {
      "display_name": "Pyolite",
      "language": "python",
      "name": "python"
    },
    "language_info": {
      "codemirror_mode": {
        "name": "python",
        "version": 3
      },
      "file_extension": ".py",
      "mimetype": "text/x-python",
      "name": "python",
      "nbconvert_exporter": "python",
      "pygments_lexer": "ipython3",
      "version": "3.8"
    }
  },
  "nbformat_minor": 5,
  "nbformat": 4,
  "cells": [
    {
      "cell_type": "code",
      "source": "import random\nm = int(input(\"m = \"))\nn = int(input(\"n = \"))\nmin_limit = -1000+14#int(input(\"min_limit = \"))\nmax_limit = -250#int(input(\"max_limit = \"))\nwhile min_limit > max_limit:\n    print(\"Введите мин и макс значения правильно: \")\n    min_limit = int(input(\"min_limit = \"))\n    max_limit = int(input(\"max_limit = \"))\nMatrix = [[random.randint(min_limit, max_limit) for j in range(n)] for i in range(m)]\nprint(\"Matrix: \")\nfor i in range(m):\n    print(Matrix[i])",
      "metadata": {},
      "execution_count": null,
      "outputs": [],
      "id": "f05fb550-8925-44fe-8e2d-decfd9773028"
    }
  ]
}